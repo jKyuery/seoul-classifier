{
 "cells": [
  {
   "cell_type": "markdown",
   "id": "00df9c1c-0586-4d9e-b874-3f2c590f5dcb",
   "metadata": {
    "tags": []
   },
   "source": [
    "# Seoul Classifier"
   ]
  },
  {
   "cell_type": "markdown",
   "id": "ecf2b0bc-bfaf-40b6-8c93-4ed343faaa19",
   "metadata": {},
   "source": [
    "The aim of this project is to use Deep Learning to classify the different types of buses in Seoul."
   ]
  },
  {
   "cell_type": "markdown",
   "id": "a823af27-50bc-435e-9894-fff798b6a560",
   "metadata": {},
   "source": [
    "By [this website](https://english.visitkorea.or.kr/enu/TRP/TP_ENG_8_1_1.jsp), the buses in Seoul are as follows:"
   ]
  },
  {
   "cell_type": "markdown",
   "id": "d9cf6768-efc4-454f-8f55-0ab0885242a0",
   "metadata": {
    "tags": []
   },
   "source": [
    "- Green buses, which are branch buses, look like this\n",
    "    - ![Green bus](http://localhost:8888/files/data/s_grn/s_grn%20(1).jpeg?_xsrf=2%7C1f09f14c%7C2483ecda1010e5f5d52a89bba0e7c4b1%7C1682457663)"
   ]
  },
  {
   "cell_type": "markdown",
   "id": "d4f65470-0cbf-45bb-bd51-c701c66619b3",
   "metadata": {
    "tags": []
   },
   "source": [
    "- Blue buses, which are mainline buses\n",
    "    - ![blue bus](http://localhost:8888/files/data/s_blue/s_blue%20(1).jpeg?_xsrf=2%7C1f09f14c%7C2483ecda1010e5f5d52a89bba0e7c4b1%7C1682457663)"
   ]
  },
  {
   "cell_type": "markdown",
   "id": "3bfab9d4-e93d-4565-8d5a-886b660c003c",
   "metadata": {
    "tags": []
   },
   "source": [
    "- Red buses which are rapid buses\n",
    "    - ![rapid bus](http://localhost:8888/files/data/s_red/s_red%20(1).jpeg?_xsrf=2%7C1f09f14c%7C2483ecda1010e5f5d52a89bba0e7c4b1%7C1682457663)"
   ]
  },
  {
   "cell_type": "markdown",
   "id": "438822fc-8cfd-41ef-91ac-48bf7ed12ba6",
   "metadata": {},
   "source": [
    "- Airport buses\n",
    "    - ![airport bus](http://localhost:8888/files/data/s_air/s_air%20(1).jpeg?_xsrf=2%7C1f09f14c%7C2483ecda1010e5f5d52a89bba0e7c4b1%7C1682457663)"
   ]
  },
  {
   "cell_type": "markdown",
   "id": "7af338e7-d7b1-4d8b-bb56-1afa1e7b6476",
   "metadata": {
    "tags": []
   },
   "source": [
    "- And Night buses which operate only at night\n",
    "    - ![Night bus](http://localhost:8888/files/data/s_night/s_night%20(1).jpeg?_xsrf=2%7C1f09f14c%7C2483ecda1010e5f5d52a89bba0e7c4b1%7C1682457663)"
   ]
  },
  {
   "cell_type": "markdown",
   "id": "c4053cf5-158a-44c3-b89d-29d3ab737649",
   "metadata": {},
   "source": [
    "- There are other buses in the data file as well\n",
    "    - ![other bus](http://localhost:8888/files/data/other/%EC%84%9C%EC%9A%B8%EA%B0%84%EC%84%A0%EB%B2%84%EC%8A%A442.jpeg?_xsrf=2%7C1f09f14c%7C2483ecda1010e5f5d52a89bba0e7c4b1%7C1682457663)"
   ]
  },
  {
   "cell_type": "code",
   "execution_count": null,
   "id": "c0763df5-e129-43d7-8f30-b335dfe1e3a9",
   "metadata": {},
   "outputs": [],
   "source": []
  }
 ],
 "metadata": {
  "kernelspec": {
   "display_name": "Python 3 (ipykernel)",
   "language": "python",
   "name": "python3"
  },
  "language_info": {
   "codemirror_mode": {
    "name": "ipython",
    "version": 3
   },
   "file_extension": ".py",
   "mimetype": "text/x-python",
   "name": "python",
   "nbconvert_exporter": "python",
   "pygments_lexer": "ipython3",
   "version": "3.8.10"
  }
 },
 "nbformat": 4,
 "nbformat_minor": 5
}
